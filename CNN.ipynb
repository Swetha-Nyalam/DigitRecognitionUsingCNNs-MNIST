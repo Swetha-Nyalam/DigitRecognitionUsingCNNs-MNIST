{
 "cells": [
  {
   "cell_type": "code",
   "execution_count": 110,
   "id": "cc57c7da-37d5-44b8-96bc-afa0bdb26125",
   "metadata": {},
   "outputs": [],
   "source": [
    "import torch\n",
    "import numpy as np\n",
    "from sklearn.model_selection import train_test_split\n",
    "import torch.nn as nn\n",
    "import matplotlib.pyplot as plt\n",
    "from torchvision import datasets, transforms\n",
    "import torch.nn.functional as F"
   ]
  },
  {
   "cell_type": "code",
   "execution_count": 111,
   "id": "ddde39aa-dc08-471f-a928-35ea48be0268",
   "metadata": {},
   "outputs": [],
   "source": [
    "mnist_dataset = datasets.MNIST(root = \"./data\", train = True, download = True)"
   ]
  },
  {
   "cell_type": "code",
   "execution_count": 112,
   "id": "7ffd076c-6064-4b68-88d5-a2594a19d5b7",
   "metadata": {},
   "outputs": [],
   "source": [
    "data, target = mnist_dataset.data, mnist_dataset.targets"
   ]
  },
  {
   "cell_type": "code",
   "execution_count": 113,
   "id": "7b27bb0f-4fa0-436e-ac30-06ace3114709",
   "metadata": {},
   "outputs": [],
   "source": [
    "train_x, test_x, train_y, test_y = train_test_split(data, target, random_state = 1234, test_size = 0.1, stratify = target)"
   ]
  },
  {
   "cell_type": "code",
   "execution_count": 114,
   "id": "56ed376f-bd96-4215-8719-442482123159",
   "metadata": {},
   "outputs": [
    {
     "name": "stdout",
     "output_type": "stream",
     "text": [
      "torch.Size([54000, 28, 28])\n",
      "torch.Size([54000])\n"
     ]
    }
   ],
   "source": [
    "print(train_x.shape)\n",
    "print(train_y.shape)"
   ]
  },
  {
   "cell_type": "code",
   "execution_count": 115,
   "id": "e3ea76e4-b55c-49a8-ba01-4da9204c671f",
   "metadata": {},
   "outputs": [],
   "source": [
    "class simple_CNN(nn.Module):\n",
    "    def __init__(self):\n",
    "        super().__init__()\n",
    "        self.conv1 = nn.Conv2d(\n",
    "            in_channels=1,\n",
    "            out_channels=8,\n",
    "            kernel_size=4,\n",
    "            stride=2,\n",
    "            padding=0\n",
    "        )\n",
    "        self.conv2 = nn.Conv2d(\n",
    "            in_channels=8,\n",
    "            out_channels=16,\n",
    "            kernel_size=3,\n",
    "            stride=2,\n",
    "            padding=0\n",
    "        )\n",
    "        self.fc1 = nn.Linear(6*6*16, 128)\n",
    "        self.fc2 = nn.Linear(128, 10)\n",
    "    def forward(self, x):\n",
    "        x = F.relu(self.conv1(x))\n",
    "        x = F.relu(self.conv2(x))\n",
    "        x = x.view(x.size(0), -1)\n",
    "        x = F.relu(self.fc1(x)) \n",
    "        x = self.fc2(x)\n",
    "        return F.softmax(x, dim=1)\n",
    "        "
   ]
  },
  {
   "cell_type": "code",
   "execution_count": 116,
   "id": "d5c240d4-c912-4999-b09d-9493a8723719",
   "metadata": {},
   "outputs": [],
   "source": [
    "train_x = train_x.reshape(train_x.shape[0], 1, train_x.shape[1], train_x.shape[2])"
   ]
  },
  {
   "cell_type": "code",
   "execution_count": 117,
   "id": "eaf7fa09-3842-4fe7-8010-ada2956c0759",
   "metadata": {},
   "outputs": [],
   "source": [
    "train_y = np.eye(10)[train_y]"
   ]
  },
  {
   "cell_type": "code",
   "execution_count": 118,
   "id": "1cf558d9-09d7-4323-82aa-2c3702f20d0a",
   "metadata": {},
   "outputs": [
    {
     "name": "stderr",
     "output_type": "stream",
     "text": [
      "/var/folders/t3/l8scb2b52bdd8cw21j8ly1r40000gn/T/ipykernel_49535/870536590.py:1: UserWarning: To copy construct from a tensor, it is recommended to use sourceTensor.clone().detach() or sourceTensor.clone().detach().requires_grad_(True), rather than torch.tensor(sourceTensor).\n",
      "  train_x = torch.tensor(train_x, dtype = torch.float32)\n"
     ]
    }
   ],
   "source": [
    "train_x = torch.tensor(train_x, dtype = torch.float32)\n",
    "train_y = torch.tensor(train_y, dtype = torch.float32)"
   ]
  },
  {
   "cell_type": "code",
   "execution_count": 119,
   "id": "4cda4a76-c66d-4ae8-bbff-6bec77828930",
   "metadata": {},
   "outputs": [],
   "source": [
    "\n",
    "model = simple_CNN()\n",
    "loss_fn = nn.CrossEntropyLoss()\n",
    "optimiser = torch.optim.SGD(model.parameters(), lr = 0.001)\n",
    "no_of_epoch = 5\n",
    "all_losses = []\n",
    "\n",
    "for _ in range(no_of_epoch):\n",
    "    y_predict = model(train_x)\n",
    "    loss = loss_fn(y_predict, train_y)\n",
    "    all_losses.append(loss.detach().numpy())\n",
    "    optimiser.zero_grad()\n",
    "    loss.backward()\n",
    "    optimiser.step()"
   ]
  },
  {
   "cell_type": "code",
   "execution_count": 120,
   "id": "9768e7b2-7936-445f-ab6c-c7807c8ee7a3",
   "metadata": {},
   "outputs": [
    {
     "name": "stdout",
     "output_type": "stream",
     "text": [
      "[array(2.3590152, dtype=float32), array(2.3569224, dtype=float32), array(2.3548136, dtype=float32), array(2.3527007, dtype=float32), array(2.3505945, dtype=float32)]\n"
     ]
    }
   ],
   "source": [
    "print(all_losses)"
   ]
  },
  {
   "cell_type": "code",
   "execution_count": 121,
   "id": "27f9faf1-23b6-494b-8469-29b482b78e8a",
   "metadata": {},
   "outputs": [
    {
     "data": {
      "text/plain": [
       "[<matplotlib.lines.Line2D at 0x291f47290>]"
      ]
     },
     "execution_count": 121,
     "metadata": {},
     "output_type": "execute_result"
    },
    {
     "data": {
      "image/png": "[encoded data removed]",
      "text/plain": [
       "<Figure size 640x480 with 1 Axes>"
      ]
     },
     "metadata": {},
     "output_type": "display_data"
    }
   ],
   "source": [
    "plt.plot(all_losses)"
   ]
  },
  {
   "cell_type": "code",
   "execution_count": null,
   "id": "10546c63-ae13-45f7-9b78-60d6f386575d",
   "metadata": {},
   "outputs": [],
   "source": []
  },
  {
   "cell_type": "code",
   "execution_count": null,
   "id": "089a0b60-8076-4cd8-a979-9430e7e088b5",
   "metadata": {},
   "outputs": [],
   "source": []
  }
 ],
 "metadata": {
  "kernelspec": {
   "display_name": "Python 3 (ipykernel)",
   "language": "python",
   "name": "python3"
  },
  "language_info": {
   "codemirror_mode": {
    "name": "ipython",
    "version": 3
   },
   "file_extension": ".py",
   "mimetype": "text/x-python",
   "name": "python",
   "nbconvert_exporter": "python",
   "pygments_lexer": "ipython3",
   "version": "3.11.7"
  }
 },
 "nbformat": 4,
 "nbformat_minor": 5
}
